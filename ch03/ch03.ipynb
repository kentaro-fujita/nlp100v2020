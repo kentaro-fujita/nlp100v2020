{
 "cells": [
  {
   "cell_type": "markdown",
   "metadata": {},
   "source": [
    "# 第3章：正規表現"
   ]
  },
  {
   "cell_type": "markdown",
   "metadata": {},
   "source": [
    "## 20.JSONデータの読み込み"
   ]
  },
  {
   "cell_type": "markdown",
   "metadata": {},
   "source": [
    "Wikipedia記事のJSONファイルを読み込み，「イギリス」に関する記事本文を表示せよ．問題21-29では，ここで抽出した記事本文に対して実行せよ．"
   ]
  },
  {
   "cell_type": "code",
   "execution_count": 1,
   "metadata": {},
   "outputs": [
    {
     "data": {
      "text/html": [
       "<div>\n",
       "<style scoped>\n",
       "    .dataframe tbody tr th:only-of-type {\n",
       "        vertical-align: middle;\n",
       "    }\n",
       "\n",
       "    .dataframe tbody tr th {\n",
       "        vertical-align: top;\n",
       "    }\n",
       "\n",
       "    .dataframe thead th {\n",
       "        text-align: right;\n",
       "    }\n",
       "</style>\n",
       "<table border=\"1\" class=\"dataframe\">\n",
       "  <thead>\n",
       "    <tr style=\"text-align: right;\">\n",
       "      <th></th>\n",
       "      <th>title</th>\n",
       "      <th>text</th>\n",
       "      <th>category</th>\n",
       "    </tr>\n",
       "  </thead>\n",
       "  <tbody>\n",
       "    <tr>\n",
       "      <td>235</td>\n",
       "      <td>イギリス</td>\n",
       "      <td>{{redirect|UK}}\\n{{redirect|英国|春秋時代の諸侯国|英 (春秋)...</td>\n",
       "      <td>[イギリス|*, イギリス連邦加盟国, 英連邦王国|*, G8加盟国, 欧州連合加盟国|元,...</td>\n",
       "    </tr>\n",
       "  </tbody>\n",
       "</table>\n",
       "</div>"
      ],
      "text/plain": [
       "    title                                               text  \\\n",
       "235  イギリス  {{redirect|UK}}\\n{{redirect|英国|春秋時代の諸侯国|英 (春秋)...   \n",
       "\n",
       "                                              category  \n",
       "235  [イギリス|*, イギリス連邦加盟国, 英連邦王国|*, G8加盟国, 欧州連合加盟国|元,...  "
      ]
     },
     "execution_count": 1,
     "metadata": {},
     "output_type": "execute_result"
    }
   ],
   "source": [
    "import pandas as pd\n",
    "\n",
    "df = pd.read_json('jawiki-country.json.gz', lines=True)\n",
    "df.query('title == \"イギリス\"')"
   ]
  },
  {
   "cell_type": "code",
   "execution_count": 2,
   "metadata": {},
   "outputs": [
    {
     "name": "stdout",
     "output_type": "stream",
     "text": [
      "{{redirect|UK}}\n",
      "{{redirect|英国|春秋時代の諸侯国|英 (春秋)}}\n",
      "{{Otheruses|ヨーロッパの国|長崎県・熊本県の郷土料理|いぎりす}}\n",
      "{{基礎情報 国\n",
      "|略名  =イギリス\n",
      "|日本語国名 = グレートブリテン及び北アイルランド連合王国\n",
      "|公式国名 = {{lang|en|United Kingdom of Great Britain and Northern Ireland}}<ref>英語以外での正式国名:<br />\n",
      "*{{lang|gd|An Rìoghachd Aonaichte na Breatainn Mhòr agus Eirinn mu Thuath}}（[[スコットランド・ゲール語]]）\n",
      "*{{lang|cy|Teyrnas Gyfunol Prydain Fawr a Gogledd Iwerddon}}（[[ウェールズ語]]）\n",
      "*{{lang|ga|Ríocht Aontaithe na Breataine Móire agus Tuaisceart na hÉireann}}（[[アイルランド語]]）\n",
      "*{{lang|kw|An Rywvaneth Unys a Vreten Veur hag Iwerdhon Glédh}}（[[コーンウォール語]]）\n",
      "*{{lang|sco|Unitit Kinrick o Great Breetain an Northren Ireland}}（[[スコットランド語]]）\n",
      "**{{lang|sco|Claught Kängrick o Docht Brätain an Norlin Airlann}}、{{lang|sco|Unitet Kängdom o Great Brittain an Norlin Airlann}}（アルスター・スコットランド語）</ref>\n",
      "|国旗画像 = Flag of the United Kingdom.svg\n",
      "|国章画像 = [[ファイル:Royal Coat of Arms of the United Kingdom.svg|85px|イギリスの国章]]\n",
      "|国章リンク =（[[イギリスの国章|国章]]）\n",
      "|標語 = {{lang|fr|[[Dieu et mon droit]]}}<br />（[[フランス語]]:[[Dieu et mon droit|神と我が権利]]）\n",
      "|国歌 = [[女王陛下万歳|{{lang|en|God Save the Queen}}]]{{en icon}}<br />''神よ女王を護り賜え''<br />{{center|[[ファイル:United States Navy Band - God Save the Queen.ogg]]}}\n",
      "|地図画像 = Europe-UK.svg\n",
      "|位置画像 = United Kingdom (+overseas territories) in the World (+Antarctica claims).svg\n",
      "|公用語 = [[英語]]\n",
      "|首都 = [[ロンドン]]（事実上）\n",
      "|最大都市 = ロンドン\n",
      "|元首等肩書 = [[イギリスの君主|女王]]\n",
      "|元首等氏名 = [[エリザベス2世]]\n",
      "|首相等肩書 = [[イギリスの首相|首相]]\n",
      "|首相等氏名 = [[ボリス・ジョンソン]]\n",
      "|他元首等肩書1 = [[貴族院 (イギリス)|貴族院議長]]\n",
      "|他元首等氏名1 = [[:en:Norman Fowler, Baron Fowler|ノーマン・ファウラー]]\n",
      "|他元首等肩書2 = [[庶民院 (イギリス)|庶民院議長]]\n",
      "|他元首等氏名2 = {{仮リンク|リンゼイ・ホイル|en|Lindsay Hoyle}}\n",
      "|他元首等肩書3 = [[連合王国最高裁判所|最高裁判所長官]]\n",
      "|他元首等氏名3 = [[:en:Brenda Hale, Baroness Hale of Richmond|ブレンダ・ヘイル]]\n",
      "|面積順位 = 76\n",
      "|面積大きさ = 1 E11\n",
      "|面積値 = 244,820\n",
      "|水面積率 = 1.3%\n",
      "|人口統計年 = 2018\n",
      "|人口順位 = 22\n",
      "|人口大きさ = 1 E7\n",
      "|人口値 = 6643万5600<ref>{{Cite web|url=https://www.ons.gov.uk/peoplepopulationandcommunity/populationandmigration/populationestimates|title=Population estimates - Office for National Statistics|accessdate=2019-06-26|date=2019-06-26}}</ref>\n",
      "|人口密度値 = 271\n",
      "|GDP統計年元 = 2012\n",
      "|GDP値元 = 1兆5478億<ref name=\"imf-statistics-gdp\">[http://www.imf.org/external/pubs/ft/weo/2012/02/weodata/weorept.aspx?pr.x=70&pr.y=13&sy=2010&ey=2012&scsm=1&ssd=1&sort=country&ds=.&br=1&c=112&s=NGDP%2CNGDPD%2CPPPGDP%2CPPPPC&grp=0&a=IMF>Data and Statistics>World Economic Outlook Databases>By Countrise>United Kingdom]</ref>\n",
      "|GDP統計年MER = 2012\n",
      "|GDP順位MER = 6\n",
      "|GDP値MER = 2兆4337億<ref name=\"imf-statistics-gdp\" />\n",
      "|GDP統計年 = 2012\n",
      "|GDP順位 = 6\n",
      "|GDP値 = 2兆3162億<ref name=\"imf-statistics-gdp\" />\n",
      "|GDP/人 = 36,727<ref name=\"imf-statistics-gdp\" />\n",
      "|建国形態 = 建国\n",
      "|確立形態1 = [[イングランド王国]]／[[スコットランド王国]]<br />（両国とも[[合同法 (1707年)|1707年合同法]]まで）\n",
      "|確立年月日1 = 927年／843年\n",
      "|確立形態2 = [[グレートブリテン王国]]成立<br />（1707年合同法）\n",
      "|確立年月日2 = 1707年{{0}}5月{{0}}1日\n",
      "|確立形態3 = [[グレートブリテン及びアイルランド連合王国]]成立<br />（[[合同法 (1800年)|1800年合同法]]）\n",
      "|確立年月日3 = 1801年{{0}}1月{{0}}1日\n",
      "|確立形態4 = 現在の国号「'''グレートブリテン及び北アイルランド連合王国'''」に変更\n",
      "|確立年月日4 = 1927年{{0}}4月12日\n",
      "|通貨 = [[スターリング・ポンド|UKポンド]] (£)\n",
      "|通貨コード = GBP\n",
      "|時間帯 = ±0\n",
      "|夏時間 = +1\n",
      "|ISO 3166-1 = GB / GBR\n",
      "|ccTLD = [[.uk]] / [[.gb]]<ref>使用は.ukに比べ圧倒的少数。</ref>\n",
      "|国際電話番号 = 44\n",
      "|注記 = <references/>\n",
      "}}\n",
      "\n",
      "'''グレートブリテン及び北アイルランド連合王国'''（グレートブリテンおよびきたアイルランドれんごうおうこく、{{lang-en-short|United Kingdom of Great Britain and Northern Ireland}}: '''UK'''）は、[[ヨーロッパ大陸]]の北西岸に位置し、[[グレートブリテン島]]・[[アイルランド島]]北東部・その他多くの島々から成る[[立憲君主制]][[国家]]。首都は[[ロンドン]]。[[日本語]]における[[通称]]の一例として'''イギリス'''、'''英国'''（えいこく）がある（→[[#国名]]）。\n",
      "\n",
      "'''[[イングランド]]'''、'''[[ウェールズ]]'''、'''[[スコットランド]]'''、'''[[北アイルランド]]'''という歴史的経緯に基づく4つの[[イギリスのカントリー|「カントリー」と呼ばれる「国」]]が、[[同君連合]]型の単一の[[主権国家体制|主権国家]]を形成する<ref name=\"page823\">{{cite web |url=http://webarchive.nationalarchives.gov.uk/+/http://www.number10.gov.uk/Page823 |title=Countries within a country |publisher=Prime Minister's Office |accessdate=10 January 2003}}</ref>独特の統治体制を採るが、一般的に[[連邦]]国家とは区別される。\n",
      "\n",
      "[[国際連合安全保障理事会常任理事国]]の一国（五大国）であり、[[G7]]・[[G20]]に参加する。GDPは世界10位以内に位置する巨大な市場を持ち、ヨーロッパにおける四つの大国「[[ビッグ4 (ヨーロッパ)|ビッグ4]]」の一国である。[[ウィーン体制]]が成立した[[1815年]]以来、世界で最も影響力のある国家・[[列強]]の一つに数えられる。また、[[民主主義]]、[[立憲君主制]]など近代国家の基本的な諸制度が発祥した国でもある。\n",
      "\n",
      "イギリスの[[擬人化]]としては[[ジョン・ブル]]、[[ブリタニア (女神)|ブリタニア]]が知られる。\n",
      "\n",
      "\n"
     ]
    }
   ],
   "source": [
    "title = df.query('title == \"イギリス\"')['title'].values[0]\n",
    "text = df.query('title == \"イギリス\"')['text'].values[0]\n",
    "print(text)"
   ]
  },
  {
   "cell_type": "markdown",
   "metadata": {},
   "source": [
    "## 21.カテゴリ名を含む行の抽出"
   ]
  },
  {
   "cell_type": "markdown",
   "metadata": {},
   "source": [
    "記事中でカテゴリ名を宣言している行を抽出せよ．"
   ]
  },
  {
   "cell_type": "code",
   "execution_count": 3,
   "metadata": {},
   "outputs": [],
   "source": [
    "import re"
   ]
  },
  {
   "cell_type": "code",
   "execution_count": 4,
   "metadata": {},
   "outputs": [
    {
     "name": "stdout",
     "output_type": "stream",
     "text": [
      "*{{lang|gd|An Rìoghachd Aonaichte na Breatainn Mhòr agus Eirinn mu Thuath}}（[[スコットランド・ゲール語]]）\n",
      "*{{lang|cy|Teyrnas Gyfunol Prydain Fawr a Gogledd Iwerddon}}（[[ウェールズ語]]）\n",
      "*{{lang|ga|Ríocht Aontaithe na Breataine Móire agus Tuaisceart na hÉireann}}（[[アイルランド語]]）\n",
      "*{{lang|kw|An Rywvaneth Unys a Vreten Veur hag Iwerdhon Glédh}}（[[コーンウォール語]]）\n",
      "*{{lang|sco|Unitit Kinrick o Great Breetain an Northren Ireland}}（[[スコットランド語]]）\n",
      "|国章画像 = [[ファイル:Royal Coat of Arms of the United Kingdom.svg|85px|イギリスの国章]]\n",
      "|国章リンク =（[[イギリスの国章|国章]]）\n",
      "|標語 = {{lang|fr|[[Dieu et mon droit]]}}<br />（[[フランス語]]:[[Dieu et mon droit|神と我が権利]]）\n",
      "|国歌 = [[女王陛下万歳|{{lang|en|God Save the Queen}}]]{{en icon}}<br />''神よ女王を護り賜え''<br />{{center|[[ファイル:United States Navy Band - God Save the Queen.ogg]]}}\n",
      "|公用語 = [[英語]]\n",
      "|首都 = [[ロンドン]]（事実上）\n",
      "|元首等肩書 = [[イギリスの君主|女王]]\n",
      "|元首等氏名 = [[エリザベス2世]]\n",
      "|首相等肩書 = [[イギリスの首相|首相]]\n",
      "|首相等氏名 = [[ボリス・ジョンソン]]\n",
      "|他元首等肩書1 = [[貴族院 (イギリス)|貴族院議長]]\n",
      "|他元首等氏名1 = [[:en:Norman Fowler, Baron Fowler|ノーマン・ファウラー]]\n",
      "|他元首等肩書2 = [[庶民院 (イギリス)|庶民院議長]]\n",
      "|他元首等肩書3 = [[連合王国最高裁判所|最高裁判所長官]]\n",
      "|他元首等氏名3 = [[:en:Brenda Hale, Baroness Hale of Richmond|ブレンダ・ヘイル]]\n",
      "|確立形態1 = [[イングランド王国]]／[[スコットランド王国]]<br />（両国とも[[合同法 (1707年)|1707年合同法]]まで）\n",
      "|確立形態2 = [[グレートブリテン王国]]成立<br />（1707年合同法）\n",
      "|確立形態3 = [[グレートブリテン及びアイルランド連合王国]]成立<br />（[[合同法 (1800年)|1800年合同法]]）\n",
      "|通貨 = [[スターリング・ポンド|UKポンド]] (£)\n",
      "|ccTLD = [[.uk]] / [[.gb]]<ref>使用は.ukに比べ圧倒的少数。</ref>\n",
      "'''グレートブリテン及び北アイルランド連合王国'''（グレートブリテンおよびきたアイルランドれんごうおうこく、{{lang-en-short|United Kingdom of Great Britain and Northern Ireland}}: '''UK'''）は、[[ヨーロッパ大陸]]の北西岸に位置し、[[グレートブリテン島]]・[[アイルランド島]]北東部・その他多くの島々から成る[[立憲君主制]][[国家]]。首都は[[ロンドン]]。[[日本語]]における[[通称]]の一例として'''イギリス'''、'''英国'''（えいこく）がある（→[[#国名]]）。\n",
      "'''[[イングランド]]'''、'''[[ウェールズ]]'''、'''[[スコットランド]]'''、'''[[北アイルランド]]'''という歴史的経緯に基づく4つの[[イギリスのカントリー|「カントリー」と呼ばれる「国」]]が、[[同君連合]]型の単一の[[主権国家体制|主権国家]]を形成する<ref name=\"page823\">{{cite web |url=http://webarchive.nationalarchives.gov.uk/+/http://www.number10.gov.uk/Page823 |title=Countries within a country |publisher=Prime Minister's Office |accessdate=10 January 2003}}</ref>独特の統治体制を採るが、一般的に[[連邦]]国家とは区別される。\n",
      "[[国際連合安全保障理事会常任理事国]]の一国（五大国）であり、[[G7]]・[[G20]]に参加する。GDPは世界10位以内に位置する巨大な市場を持ち、ヨーロッパにおける四つの大国「[[ビッグ4 (ヨーロッパ)|ビッグ4]]」の一国である。[[ウィーン体制]]が成立した[[1815年]]以来、世界で最も影響力のある国家・[[列強]]の一つに数えられる。また、[[民主主義]]、[[立憲君主制]]など近代国家の基本的な諸制度が発祥した国でもある。\n",
      "イギリスの[[擬人化]]としては[[ジョン・ブル]]、[[ブリタニア (女神)|ブリタニア]]が知られる。\n"
     ]
    }
   ],
   "source": [
    "for line in text.split('\\n'):\n",
    "    if re.findall(r'\\[\\[.+?\\]\\]', line):\n",
    "        print(line)"
   ]
  },
  {
   "cell_type": "markdown",
   "metadata": {},
   "source": [
    "## 22.カテゴリ名の抽出"
   ]
  },
  {
   "cell_type": "markdown",
   "metadata": {},
   "source": [
    "記事のカテゴリ名を（行単位ではなく名前で）抽出せよ．"
   ]
  },
  {
   "cell_type": "code",
   "execution_count": 5,
   "metadata": {
    "scrolled": true
   },
   "outputs": [
    {
     "name": "stdout",
     "output_type": "stream",
     "text": [
      "スコットランド・ゲール語\n",
      "ウェールズ語\n",
      "アイルランド語\n",
      "コーンウォール語\n",
      "スコットランド語\n",
      "ファイル:Royal Coat of Arms of the United Kingdom.svg|85px|イギリスの国章\n",
      "イギリスの国章|国章\n",
      "Dieu et mon droit\n",
      "フランス語\n",
      "Dieu et mon droit|神と我が権利\n",
      "女王陛下万歳|{{lang|en|God Save the Queen}}\n",
      "ファイル:United States Navy Band - God Save the Queen.ogg\n",
      "英語\n",
      "ロンドン\n",
      "イギリスの君主|女王\n",
      "エリザベス2世\n",
      "イギリスの首相|首相\n",
      "ボリス・ジョンソン\n",
      "貴族院 (イギリス)|貴族院議長\n",
      ":en:Norman Fowler, Baron Fowler|ノーマン・ファウラー\n",
      "庶民院 (イギリス)|庶民院議長\n",
      "連合王国最高裁判所|最高裁判所長官\n",
      ":en:Brenda Hale, Baroness Hale of Richmond|ブレンダ・ヘイル\n",
      "イングランド王国\n",
      "スコットランド王国\n",
      "合同法 (1707年)|1707年合同法\n",
      "グレートブリテン王国\n",
      "グレートブリテン及びアイルランド連合王国\n",
      "合同法 (1800年)|1800年合同法\n",
      "スターリング・ポンド|UKポンド\n",
      ".uk\n",
      ".gb\n",
      "ヨーロッパ大陸\n",
      "グレートブリテン島\n",
      "アイルランド島\n",
      "立憲君主制\n",
      "国家\n",
      "ロンドン\n",
      "日本語\n",
      "通称\n",
      "#国名\n",
      "イングランド\n",
      "ウェールズ\n",
      "スコットランド\n",
      "北アイルランド\n",
      "イギリスのカントリー|「カントリー」と呼ばれる「国」\n",
      "同君連合\n",
      "主権国家体制|主権国家\n",
      "連邦\n",
      "国際連合安全保障理事会常任理事国\n",
      "G7\n",
      "G20\n",
      "ビッグ4 (ヨーロッパ)|ビッグ4\n",
      "ウィーン体制\n",
      "1815年\n",
      "列強\n",
      "民主主義\n",
      "立憲君主制\n",
      "擬人化\n",
      "ジョン・ブル\n",
      "ブリタニア (女神)|ブリタニア\n"
     ]
    }
   ],
   "source": [
    "for line in text.split('\\n'):\n",
    "    results = re.findall(r'\\[\\[.+?\\]\\]', line)\n",
    "    if results:\n",
    "        for result in results:\n",
    "            print(result.strip(\"\\[\\]\"))"
   ]
  },
  {
   "cell_type": "markdown",
   "metadata": {},
   "source": [
    "## 23.セクション構造"
   ]
  },
  {
   "cell_type": "markdown",
   "metadata": {},
   "source": [
    "記事中に含まれるセクション名とそのレベル（例えば”==セクション名==\"なら1）を表示せよ．"
   ]
  },
  {
   "cell_type": "code",
   "execution_count": 6,
   "metadata": {},
   "outputs": [
    {
     "name": "stdout",
     "output_type": "stream",
     "text": [
      "6643万5600<ref>{{Cite web|url\t1\n",
      "Population estimates - Office for National Statistics|accessdate\t1\n",
      "1兆5478億<ref name\t1\n",
      "70&pr.y\t1\n",
      "2010&ey\t1\n",
      "1&ssd\t1\n",
      "country&ds\t1\n",
      "1&c\t1\n",
      "NGDP%2CNGDPD%2CPPPGDP%2CPPPPC&grp\t1\n",
      "2兆4337億<ref name\t1\n",
      "2兆3162億<ref name\t1\n",
      "36,727<ref name\t1\n",
      "\"page823\">{{cite web |url\t1\n",
      "Countries within a country |publisher\t1\n"
     ]
    }
   ],
   "source": [
    "for line in text.split('\\n'):\n",
    "    for section in  re.findall(r'(=+)([^=]+)\\1', line):\n",
    "        print(f'{section[1].strip()}\\t{len(section) - 1}')"
   ]
  },
  {
   "cell_type": "markdown",
   "metadata": {},
   "source": [
    "## 24.ファイル参照の抽出"
   ]
  },
  {
   "cell_type": "markdown",
   "metadata": {},
   "source": [
    "記事から参照されているメディアファイルを全て抜き出せ．"
   ]
  },
  {
   "cell_type": "code",
   "execution_count": 7,
   "metadata": {},
   "outputs": [
    {
     "name": "stdout",
     "output_type": "stream",
     "text": [
      "Royal Coat of Arms of the United Kingdom.svg\n"
     ]
    }
   ],
   "source": [
    "for line in text.split('\\n'):\n",
    "    for file in  re.findall(r'\\[\\[(ファイル|File):([^]|]+?)(\\|.*?)+\\]\\]', line):\n",
    "        print(file[1])"
   ]
  },
  {
   "cell_type": "markdown",
   "metadata": {},
   "source": [
    "## 25.テンプレートの抽出"
   ]
  },
  {
   "cell_type": "markdown",
   "metadata": {},
   "source": [
    "記事中に含まれる「基礎情報」のテンプレートのフィールド名と値を抽出し，辞書オブジェクトとして格納せよ．"
   ]
  },
  {
   "cell_type": "code",
   "execution_count": 8,
   "metadata": {},
   "outputs": [
    {
     "name": "stdout",
     "output_type": "stream",
     "text": [
      "{'GDP/人': ' 36,727<ref name=\"imf-statistics-gdp\" />',\n",
      " 'GDP値': ' 2兆3162億<ref name=\"imf-statistics-gdp\" />',\n",
      " 'GDP値MER': ' 2兆4337億<ref name=\"imf-statistics-gdp\" />',\n",
      " 'GDP値元': ' 1兆5478億<ref '\n",
      "          'name=\"imf-statistics-gdp\">[http://www.imf.org/external/pubs/ft/weo/2012/02/weodata/weorept.aspx?pr.x=70&pr.y=13&sy=2010&ey=2012&scsm=1&ssd=1&sort=country&ds=.&br=1&c=112&s=NGDP%2CNGDPD%2CPPPGDP%2CPPPPC&grp=0&a=IMF>Data '\n",
      "          'and Statistics>World Economic Outlook Databases>By Countrise>United '\n",
      "          'Kingdom]</ref>',\n",
      " 'GDP統計年': ' 2012',\n",
      " 'GDP統計年MER': ' 2012',\n",
      " 'GDP統計年元': ' 2012',\n",
      " 'GDP順位': ' 6',\n",
      " 'GDP順位MER': ' 6',\n",
      " 'ISO 3166-1': ' GB / GBR',\n",
      " 'ccTLD': ' [[.uk]] / [[.gb]]<ref>使用は.ukに比べ圧倒的少数。</ref>',\n",
      " '人口値': ' 6643万5600<ref>{{Cite '\n",
      "        'web|url=https://www.ons.gov.uk/peoplepopulationandcommunity/populationandmigration/populationestimates|title=Population '\n",
      "        'estimates - Office for National '\n",
      "        'Statistics|accessdate=2019-06-26|date=2019-06-26}}</ref>',\n",
      " '人口大きさ': ' 1 E7',\n",
      " '人口密度値': ' 271',\n",
      " '人口統計年': ' 2018',\n",
      " '人口順位': ' 22',\n",
      " '他元首等氏名1': ' [[:en:Norman Fowler, Baron Fowler|ノーマン・ファウラー]]',\n",
      " '他元首等氏名2': ' {{仮リンク|リンゼイ・ホイル|en|Lindsay Hoyle}}',\n",
      " '他元首等氏名3': ' [[:en:Brenda Hale, Baroness Hale of Richmond|ブレンダ・ヘイル]]',\n",
      " '他元首等肩書1': ' [[貴族院 (イギリス)|貴族院議長]]',\n",
      " '他元首等肩書2': ' [[庶民院 (イギリス)|庶民院議長]]',\n",
      " '他元首等肩書3': ' [[連合王国最高裁判所|最高裁判所長官]]',\n",
      " '位置画像': ' United Kingdom (+overseas territories) in the World (+Antarctica '\n",
      "         'claims).svg',\n",
      " '元首等氏名': ' [[エリザベス2世]]',\n",
      " '元首等肩書': ' [[イギリスの君主|女王]]',\n",
      " '公式国名': ' {{lang|en|United Kingdom of Great Britain and Northern '\n",
      "         'Ireland}}<ref>英語以外での正式国名:<br />',\n",
      " '公用語': ' [[英語]]',\n",
      " '国旗画像': ' Flag of the United Kingdom.svg',\n",
      " '国歌': ' [[女王陛下万歳|{{lang|en|God Save the Queen}}]]{{en icon}}<br '\n",
      "       \"/>''神よ女王を護り賜え''<br />{{center|[[ファイル:United States Navy Band - God \"\n",
      "       'Save the Queen.ogg]]}}',\n",
      " '国章リンク': '（[[イギリスの国章|国章]]）',\n",
      " '国章画像': ' [[ファイル:Royal Coat of Arms of the United Kingdom.svg|85px|イギリスの国章]]',\n",
      " '国際電話番号': ' 44',\n",
      " '地図画像': ' Europe-UK.svg',\n",
      " '夏時間': ' +1',\n",
      " '建国形態': ' 建国',\n",
      " '日本語国名': ' グレートブリテン及び北アイルランド連合王国',\n",
      " '時間帯': ' ±0',\n",
      " '最大都市': ' ロンドン',\n",
      " '標語': ' {{lang|fr|[[Dieu et mon droit]]}}<br />（[[フランス語]]:[[Dieu et mon '\n",
      "       'droit|神と我が権利]]）',\n",
      " '水面積率': ' 1.3%',\n",
      " '注記': ' <references/>',\n",
      " '略名 ': 'イギリス',\n",
      " '確立年月日1': ' 927年／843年',\n",
      " '確立年月日2': ' 1707年{{0}}5月{{0}}1日',\n",
      " '確立年月日3': ' 1801年{{0}}1月{{0}}1日',\n",
      " '確立年月日4': ' 1927年{{0}}4月12日',\n",
      " '確立形態1': ' [[イングランド王国]]／[[スコットランド王国]]<br />（両国とも[[合同法 (1707年)|1707年合同法]]まで）',\n",
      " '確立形態2': ' [[グレートブリテン王国]]成立<br />（1707年合同法）',\n",
      " '確立形態3': ' [[グレートブリテン及びアイルランド連合王国]]成立<br />（[[合同法 (1800年)|1800年合同法]]）',\n",
      " '確立形態4': \" 現在の国号「'''グレートブリテン及び北アイルランド連合王国'''」に変更\",\n",
      " '通貨': ' [[スターリング・ポンド|UKポンド]] (£)',\n",
      " '通貨コード': ' GBP',\n",
      " '面積値': ' 244,820',\n",
      " '面積大きさ': ' 1 E11',\n",
      " '面積順位': ' 76',\n",
      " '首相等氏名': ' [[ボリス・ジョンソン]]',\n",
      " '首相等肩書': ' [[イギリスの首相|首相]]',\n",
      " '首都': ' [[ロンドン]]（事実上）'}\n"
     ]
    }
   ],
   "source": [
    "import pprint\n",
    "ans = dict()\n",
    "\n",
    "flag = False\n",
    "for line in text.split('\\n'):\n",
    "    if re.match(r'\\{\\{'+'基礎情報', line):\n",
    "        flag = True\n",
    "    if flag:\n",
    "        if re.match(r'\\|', line):\n",
    "            string = re.sub('<ref(\\s|>).+?(</ref>|$)', ' ', line.strip())\n",
    "            field, value = re.findall('\\|(.*?)\\ =(.+)', line)[0]\n",
    "            ans[field] = value\n",
    "        if re.match(r'\\}\\}', line):\n",
    "            break\n",
    "\n",
    "pprint.pprint(ans)"
   ]
  },
  {
   "cell_type": "markdown",
   "metadata": {},
   "source": [
    "２５の処理時に，テンプレートからMediaWikiの共闘マークアップ（弱い強調，強調，強い強調のすべて）を除去してテキストに変換せよ（参照:[マークアップ早見表](https://ja.wikipedia.org/wiki/Help:%E6%97%A9%E8%A6%8B%E8%A1%A8)）．"
   ]
  },
  {
   "cell_type": "code",
   "execution_count": 9,
   "metadata": {},
   "outputs": [
    {
     "name": "stdout",
     "output_type": "stream",
     "text": [
      "{'GDP/人': ' 36,727<ref name=\"imf-statistics-gdp\" />',\n",
      " 'GDP値': ' 2兆3162億<ref name=\"imf-statistics-gdp\" />',\n",
      " 'GDP値MER': ' 2兆4337億<ref name=\"imf-statistics-gdp\" />',\n",
      " 'GDP値元': ' 1兆5478億<ref '\n",
      "          'name=\"imf-statistics-gdp\">[http://www.imf.org/external/pubs/ft/weo/2012/02/weodata/weorept.aspx?pr.x=70&pr.y=13&sy=2010&ey=2012&scsm=1&ssd=1&sort=country&ds=.&br=1&c=112&s=NGDP%2CNGDPD%2CPPPGDP%2CPPPPC&grp=0&a=IMF>Data '\n",
      "          'and Statistics>World Economic Outlook Databases>By Countrise>United '\n",
      "          'Kingdom]</ref>',\n",
      " 'GDP統計年': ' 2012',\n",
      " 'GDP統計年MER': ' 2012',\n",
      " 'GDP統計年元': ' 2012',\n",
      " 'GDP順位': ' 6',\n",
      " 'GDP順位MER': ' 6',\n",
      " 'ISO 3166-1': ' GB / GBR',\n",
      " 'ccTLD': ' [[.uk]] / [[.gb]]<ref>使用は.ukに比べ圧倒的少数。</ref>',\n",
      " '人口値': ' 6643万5600<ref>{{Cite '\n",
      "        'web|url=https://www.ons.gov.uk/peoplepopulationandcommunity/populationandmigration/populationestimates|title=Population '\n",
      "        'estimates - Office for National '\n",
      "        'Statistics|accessdate=2019-06-26|date=2019-06-26}}</ref>',\n",
      " '人口大きさ': ' 1 E7',\n",
      " '人口密度値': ' 271',\n",
      " '人口統計年': ' 2018',\n",
      " '人口順位': ' 22',\n",
      " '他元首等氏名1': ' [[:en:Norman Fowler, Baron Fowler|ノーマン・ファウラー]]',\n",
      " '他元首等氏名2': ' {{仮リンク|リンゼイ・ホイル|en|Lindsay Hoyle}}',\n",
      " '他元首等氏名3': ' [[:en:Brenda Hale, Baroness Hale of Richmond|ブレンダ・ヘイル]]',\n",
      " '他元首等肩書1': ' [[貴族院 (イギリス)|貴族院議長]]',\n",
      " '他元首等肩書2': ' [[庶民院 (イギリス)|庶民院議長]]',\n",
      " '他元首等肩書3': ' [[連合王国最高裁判所|最高裁判所長官]]',\n",
      " '位置画像': ' United Kingdom (+overseas territories) in the World (+Antarctica '\n",
      "         'claims).svg',\n",
      " '元首等氏名': ' [[エリザベス2世]]',\n",
      " '元首等肩書': ' [[イギリスの君主|女王]]',\n",
      " '公式国名': ' {{lang|en|United Kingdom of Great Britain and Northern '\n",
      "         'Ireland}}<ref>英語以外での正式国名:<br />',\n",
      " '公用語': ' [[英語]]',\n",
      " '国旗画像': ' Flag of the United Kingdom.svg',\n",
      " '国歌': ' [[女王陛下万歳|{{lang|en|God Save the Queen}}]]{{en icon}}<br '\n",
      "       '/>神よ女王を護り賜え<br />{{center|[[ファイル:United States Navy Band - God Save '\n",
      "       'the Queen.ogg]]}}',\n",
      " '国章リンク': '（[[イギリスの国章|国章]]）',\n",
      " '国章画像': ' [[ファイル:Royal Coat of Arms of the United Kingdom.svg|85px|イギリスの国章]]',\n",
      " '国際電話番号': ' 44',\n",
      " '地図画像': ' Europe-UK.svg',\n",
      " '夏時間': ' +1',\n",
      " '建国形態': ' 建国',\n",
      " '日本語国名': ' グレートブリテン及び北アイルランド連合王国',\n",
      " '時間帯': ' ±0',\n",
      " '最大都市': ' ロンドン',\n",
      " '標語': ' {{lang|fr|[[Dieu et mon droit]]}}<br />（[[フランス語]]:[[Dieu et mon '\n",
      "       'droit|神と我が権利]]）',\n",
      " '水面積率': ' 1.3%',\n",
      " '注記': ' <references/>',\n",
      " '略名 ': 'イギリス',\n",
      " '確立年月日1': ' 927年／843年',\n",
      " '確立年月日2': ' 1707年{{0}}5月{{0}}1日',\n",
      " '確立年月日3': ' 1801年{{0}}1月{{0}}1日',\n",
      " '確立年月日4': ' 1927年{{0}}4月12日',\n",
      " '確立形態1': ' [[イングランド王国]]／[[スコットランド王国]]<br />（両国とも[[合同法 (1707年)|1707年合同法]]まで）',\n",
      " '確立形態2': ' [[グレートブリテン王国]]成立<br />（1707年合同法）',\n",
      " '確立形態3': ' [[グレートブリテン及びアイルランド連合王国]]成立<br />（[[合同法 (1800年)|1800年合同法]]）',\n",
      " '確立形態4': ' 現在の国号「グレートブリテン及び北アイルランド連合王国」に変更',\n",
      " '通貨': ' [[スターリング・ポンド|UKポンド]] (£)',\n",
      " '通貨コード': ' GBP',\n",
      " '面積値': ' 244,820',\n",
      " '面積大きさ': ' 1 E11',\n",
      " '面積順位': ' 76',\n",
      " '首相等氏名': ' [[ボリス・ジョンソン]]',\n",
      " '首相等肩書': ' [[イギリスの首相|首相]]',\n",
      " '首都': ' [[ロンドン]]（事実上）'}\n"
     ]
    }
   ],
   "source": [
    "r = re.compile(\"'+\")\n",
    "ans = {k: r.sub('', v) for k, v in ans.items()}\n",
    "\n",
    "pprint.pprint(ans)"
   ]
  },
  {
   "cell_type": "markdown",
   "metadata": {},
   "source": [
    "## 27.内部リンクの削除"
   ]
  },
  {
   "cell_type": "markdown",
   "metadata": {},
   "source": [
    "26の処理に加えて，テンプレートの値からMediaWikiの内部リンクマークアップを除去し，テキストに変換せよ．"
   ]
  },
  {
   "cell_type": "code",
   "execution_count": 10,
   "metadata": {},
   "outputs": [
    {
     "name": "stdout",
     "output_type": "stream",
     "text": [
      "{'GDP/人': ' 36,727<ref name=\"imf-statistics-gdp\" />',\n",
      " 'GDP値': ' 2兆3162億<ref name=\"imf-statistics-gdp\" />',\n",
      " 'GDP値MER': ' 2兆4337億<ref name=\"imf-statistics-gdp\" />',\n",
      " 'GDP値元': ' 1兆5478億<ref '\n",
      "          'name=\"imf-statistics-gdp\">[http://www.imf.org/external/pubs/ft/weo/2012/02/weodata/weorept.aspx?pr.x=70&pr.y=13&sy=2010&ey=2012&scsm=1&ssd=1&sort=country&ds=.&br=1&c=112&s=NGDP%2CNGDPD%2CPPPGDP%2CPPPPC&grp=0&a=IMF>Data '\n",
      "          'and Statistics>World Economic Outlook Databases>By Countrise>United '\n",
      "          'Kingdom]</ref>',\n",
      " 'GDP統計年': ' 2012',\n",
      " 'GDP統計年MER': ' 2012',\n",
      " 'GDP統計年元': ' 2012',\n",
      " 'GDP順位': ' 6',\n",
      " 'GDP順位MER': ' 6',\n",
      " 'ISO 3166-1': ' GB / GBR',\n",
      " 'ccTLD': ' .uk / .gb<ref>使用は.ukに比べ圧倒的少数。</ref>',\n",
      " '人口値': ' 6643万5600<ref>{{Cite '\n",
      "        'web|url=https://www.ons.gov.uk/peoplepopulationandcommunity/populationandmigration/populationestimates|title=Population '\n",
      "        'estimates - Office for National '\n",
      "        'Statistics|accessdate=2019-06-26|date=2019-06-26}}</ref>',\n",
      " '人口大きさ': ' 1 E7',\n",
      " '人口密度値': ' 271',\n",
      " '人口統計年': ' 2018',\n",
      " '人口順位': ' 22',\n",
      " '他元首等氏名1': ' ノーマン・ファウラー',\n",
      " '他元首等氏名2': ' {{仮リンク|リンゼイ・ホイル|en|Lindsay Hoyle}}',\n",
      " '他元首等氏名3': ' ブレンダ・ヘイル',\n",
      " '他元首等肩書1': ' 貴族院議長',\n",
      " '他元首等肩書2': ' 庶民院議長',\n",
      " '他元首等肩書3': ' 最高裁判所長官',\n",
      " '位置画像': ' United Kingdom (+overseas territories) in the World (+Antarctica '\n",
      "         'claims).svg',\n",
      " '元首等氏名': ' エリザベス2世',\n",
      " '元首等肩書': ' 女王',\n",
      " '公式国名': ' {{lang|en|United Kingdom of Great Britain and Northern '\n",
      "         'Ireland}}<ref>英語以外での正式国名:<br />',\n",
      " '公用語': ' 英語',\n",
      " '国旗画像': ' Flag of the United Kingdom.svg',\n",
      " '国歌': ' [[ファイル:United States Navy Band - God Save the Queen.ogg}}',\n",
      " '国章リンク': '（国章）',\n",
      " '国章画像': ' イギリスの国章',\n",
      " '国際電話番号': ' 44',\n",
      " '地図画像': ' Europe-UK.svg',\n",
      " '夏時間': ' +1',\n",
      " '建国形態': ' 建国',\n",
      " '日本語国名': ' グレートブリテン及び北アイルランド連合王国',\n",
      " '時間帯': ' ±0',\n",
      " '最大都市': ' ロンドン',\n",
      " '標語': ' {{lang|fr|神と我が権利）',\n",
      " '水面積率': ' 1.3%',\n",
      " '注記': ' <references/>',\n",
      " '略名 ': 'イギリス',\n",
      " '確立年月日1': ' 927年／843年',\n",
      " '確立年月日2': ' 1707年{{0}}5月{{0}}1日',\n",
      " '確立年月日3': ' 1801年{{0}}1月{{0}}1日',\n",
      " '確立年月日4': ' 1927年{{0}}4月12日',\n",
      " '確立形態1': ' 1707年合同法まで）',\n",
      " '確立形態2': ' グレートブリテン王国成立<br />（1707年合同法）',\n",
      " '確立形態3': ' 1800年合同法）',\n",
      " '確立形態4': ' 現在の国号「グレートブリテン及び北アイルランド連合王国」に変更',\n",
      " '通貨': ' UKポンド (£)',\n",
      " '通貨コード': ' GBP',\n",
      " '面積値': ' 244,820',\n",
      " '面積大きさ': ' 1 E11',\n",
      " '面積順位': ' 76',\n",
      " '首相等氏名': ' ボリス・ジョンソン',\n",
      " '首相等肩書': ' 首相',\n",
      " '首都': ' ロンドン（事実上）'}\n"
     ]
    }
   ],
   "source": [
    "r = re.compile('\\[\\[(.+\\||)(.+?)\\]\\]')\n",
    "ans = {k: r.sub(r'\\2', v) for k, v in ans.items()}\n",
    "\n",
    "pprint.pprint(ans)"
   ]
  },
  {
   "cell_type": "markdown",
   "metadata": {},
   "source": [
    "## 28.MediaWikiマークアップの削除"
   ]
  },
  {
   "cell_type": "markdown",
   "metadata": {},
   "source": [
    "27の処理に加えて，テンプレートの値からMediaWikiマークアップを可能な限り除去し，国の基本情報を整形せよ．"
   ]
  },
  {
   "cell_type": "code",
   "execution_count": 11,
   "metadata": {},
   "outputs": [
    {
     "name": "stdout",
     "output_type": "stream",
     "text": [
      "{'GDP/人': ' 36,727<ref name=\"imf-statistics-gdp\" />',\n",
      " 'GDP値': ' 2兆3162億<ref name=\"imf-statistics-gdp\" />',\n",
      " 'GDP値MER': ' 2兆4337億<ref name=\"imf-statistics-gdp\" />',\n",
      " 'GDP値元': ' 1兆5478億<ref '\n",
      "          'name=\"imf-statistics-gdp\">[http://www.imf.org/external/pubs/ft/weo/2012/02/weodata/weorept.aspx?pr.x=70&pr.y=13&sy=2010&ey=2012&scsm=1&ssd=1&sort=country&ds=.&br=1&c=112&s=NGDP%2CNGDPD%2CPPPGDP%2CPPPPC&grp=0&a=IMF>Data '\n",
      "          'and Statistics>World Economic Outlook Databases>By Countrise>United '\n",
      "          'Kingdom]</ref>',\n",
      " 'GDP統計年': ' 2012',\n",
      " 'GDP統計年MER': ' 2012',\n",
      " 'GDP統計年元': ' 2012',\n",
      " 'GDP順位': ' 6',\n",
      " 'GDP順位MER': ' 6',\n",
      " 'ISO 3166-1': ' GB / GBR',\n",
      " 'ccTLD': ' .uk / .gb<ref>使用は.ukに比べ圧倒的少数。</ref>',\n",
      " '人口値': ' 6643万5600<ref>date=2019-06-26</ref>',\n",
      " '人口大きさ': ' 1 E7',\n",
      " '人口密度値': ' 271',\n",
      " '人口統計年': ' 2018',\n",
      " '人口順位': ' 22',\n",
      " '他元首等氏名1': ' ノーマン・ファウラー',\n",
      " '他元首等氏名2': ' Lindsay Hoyle',\n",
      " '他元首等氏名3': ' ブレンダ・ヘイル',\n",
      " '他元首等肩書1': ' 貴族院議長',\n",
      " '他元首等肩書2': ' 庶民院議長',\n",
      " '他元首等肩書3': ' 最高裁判所長官',\n",
      " '位置画像': ' United Kingdom (+overseas territories) in the World (+Antarctica '\n",
      "         'claims).svg',\n",
      " '元首等氏名': ' エリザベス2世',\n",
      " '元首等肩書': ' 女王',\n",
      " '公式国名': ' United Kingdom of Great Britain and Northern '\n",
      "         'Ireland<ref>英語以外での正式国名:',\n",
      " '公用語': ' 英語',\n",
      " '国旗画像': ' Flag of the United Kingdom.svg',\n",
      " '国歌': ' [[ファイル:United States Navy Band - God Save the Queen.ogg}}',\n",
      " '国章リンク': '（国章）',\n",
      " '国章画像': ' イギリスの国章',\n",
      " '国際電話番号': ' 44',\n",
      " '地図画像': ' Europe-UK.svg',\n",
      " '夏時間': ' +1',\n",
      " '建国形態': ' 建国',\n",
      " '日本語国名': ' グレートブリテン及び北アイルランド連合王国',\n",
      " '時間帯': ' ±0',\n",
      " '最大都市': ' ロンドン',\n",
      " '標語': ' {{lang|fr|神と我が権利）',\n",
      " '水面積率': ' 1.3%',\n",
      " '注記': ' <references/>',\n",
      " '略名 ': 'イギリス',\n",
      " '確立年月日1': ' 927年／843年',\n",
      " '確立年月日2': ' 1707年05月01日',\n",
      " '確立年月日3': ' 1801年01月01日',\n",
      " '確立年月日4': ' 1927年04月12日',\n",
      " '確立形態1': ' 1707年合同法まで）',\n",
      " '確立形態2': ' グレートブリテン王国成立（1707年合同法）',\n",
      " '確立形態3': ' 1800年合同法）',\n",
      " '確立形態4': ' 現在の国号「グレートブリテン及び北アイルランド連合王国」に変更',\n",
      " '通貨': ' UKポンド (£)',\n",
      " '通貨コード': ' GBP',\n",
      " '面積値': ' 244,820',\n",
      " '面積大きさ': ' 1 E11',\n",
      " '面積順位': ' 76',\n",
      " '首相等氏名': ' ボリス・ジョンソン',\n",
      " '首相等肩書': ' 首相',\n",
      " '首都': ' ロンドン（事実上）'}\n"
     ]
    }
   ],
   "source": [
    "def removeMk(v):\n",
    "    r1 = re.compile(\"'+\")\n",
    "    r2 = re.compile('\\[\\[(.+\\||)(.+?)\\]\\]')\n",
    "    r3 = re.compile('\\{\\{(.+\\||)(.+?)\\}\\}')\n",
    "    r4 = re.compile('<\\s*?/*?\\s*?br\\s*?/*?\\s*>')\n",
    "    v = r1.sub('', v)\n",
    "    v = r2.sub(r'\\2', v)\n",
    "    v = r3.sub(r'\\2', v)\n",
    "    v = r4.sub('', v)\n",
    "    return v\n",
    "ans = {k: r.sub(r'\\2', removeMk(v)) for k, v in ans.items()}\n",
    "pprint.pprint(ans)"
   ]
  },
  {
   "cell_type": "markdown",
   "metadata": {},
   "source": [
    "## 29.国旗画像のURLを取得する"
   ]
  },
  {
   "cell_type": "markdown",
   "metadata": {},
   "source": [
    "テンプレートの内容を利用し，国旗画像のURLを取得せよ．"
   ]
  },
  {
   "cell_type": "code",
   "execution_count": 12,
   "metadata": {},
   "outputs": [
    {
     "name": "stdout",
     "output_type": "stream",
     "text": [
      "'https://upload.wikimedia.org/wikipedia/commons/a/ae/Flag_of_the_United_Kingdom.svg'\n"
     ]
    }
   ],
   "source": [
    "import requests\n",
    "\n",
    "def getUrl(dc):\n",
    "    url_file = dc['国旗画像'].replace(' ', '_')\n",
    "    url = 'https://commons.wikimedia.org/w/api.php?action=query&titles=File:' + url_file + '&prop=imageinfo&iiprop=url&format=json'\n",
    "    data = requests.get(url)\n",
    "    return re.search(r'\"url\":\"(.+?)\"', data.text).group(1)\n",
    "\n",
    "ans = getUrl(ans)\n",
    "pprint.pprint(ans)"
   ]
  },
  {
   "cell_type": "code",
   "execution_count": null,
   "metadata": {},
   "outputs": [],
   "source": []
  }
 ],
 "metadata": {
  "kernelspec": {
   "display_name": "Python 3",
   "language": "python",
   "name": "python3"
  },
  "language_info": {
   "codemirror_mode": {
    "name": "ipython",
    "version": 3
   },
   "file_extension": ".py",
   "mimetype": "text/x-python",
   "name": "python",
   "nbconvert_exporter": "python",
   "pygments_lexer": "ipython3",
   "version": "3.7.4"
  }
 },
 "nbformat": 4,
 "nbformat_minor": 2
}
